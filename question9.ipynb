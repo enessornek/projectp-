{
 "cells": [
  {
   "cell_type": "code",
   "execution_count": 16,
   "id": "8fdb9126-52e1-4ecf-a295-9eb4f6165547",
   "metadata": {},
   "outputs": [
    {
     "name": "stdout",
     "output_type": "stream",
     "text": [
      "Saf URL: https://xcd32112.smart_meter.com\n"
     ]
    }
   ],
   "source": [
    "import re\n",
    "\n",
    "def extract_url(stats_access_link, device_type):\n",
    "   \n",
    "    stats_access_link = stats_access_link.lower()\n",
    "    \n",
    "    \n",
    "    regex_pattern = r'<{0}>(https?://[\\w._-]+)</{0}>'.format(device_type.lower())\n",
    "    \n",
    "   \n",
    "    match = re.search(regex_pattern, stats_access_link)\n",
    "    if match:\n",
    "        return match.group(1)\n",
    "    else:\n",
    "        return None\n",
    "\n",
    "\n",
    "stats_access_link = \"<AXO145>https://xcd32112.smart_meter.com</AXO145>\"\n",
    "device_type = \"AXO145\"\n",
    "url = extract_url(stats_access_link, device_type)\n",
    "print(\"Saf URL:\", url)\n"
   ]
  },
  {
   "cell_type": "code",
   "execution_count": null,
   "id": "3b52f4ab-fe42-415b-a99b-e1a8b672294f",
   "metadata": {},
   "outputs": [],
   "source": []
  }
 ],
 "metadata": {
  "kernelspec": {
   "display_name": "Python 3 (ipykernel)",
   "language": "python",
   "name": "python3"
  },
  "language_info": {
   "codemirror_mode": {
    "name": "ipython",
    "version": 3
   },
   "file_extension": ".py",
   "mimetype": "text/x-python",
   "name": "python",
   "nbconvert_exporter": "python",
   "pygments_lexer": "ipython3",
   "version": "3.11.7"
  }
 },
 "nbformat": 4,
 "nbformat_minor": 5
}

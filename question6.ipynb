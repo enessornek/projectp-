{
 "cells": [
  {
   "cell_type": "code",
   "execution_count": 14,
   "id": "dd542c13-7399-4330-a22e-2fb69b4300e6",
   "metadata": {},
   "outputs": [
    {
     "name": "stdout",
     "output_type": "stream",
     "text": [
      "country\n",
      "United States    514833.702703\n",
      "China            327220.081081\n",
      "India            171920.545455\n",
      "Name: daily_vaccinations, dtype: float64\n"
     ]
    }
   ],
   "source": [
    "import pandas as pd\n",
    "df = pd.read_csv(\"C:/Users/eneso/Downloads/country_vaccination_stats.csv\")\n",
    "df['daily_vaccinations'] = df.groupby('country')['daily_vaccinations'].transform(lambda x: x.fillna(x.min()))\n",
    "df['daily_vaccinations'] = df['daily_vaccinations'].fillna(0)\n",
    "\n",
    "\n",
    "average_daily_vaccinations = df.groupby('country')['daily_vaccinations'].mean()\n",
    "\n",
    "\n",
    "top_3_countries = average_daily_vaccinations.nlargest(3)\n",
    "\n",
    "\n",
    "print(top_3_countries)\n"
   ]
  },
  {
   "cell_type": "code",
   "execution_count": null,
   "id": "6a0d3489-304e-4d21-b931-5f6ce3160631",
   "metadata": {},
   "outputs": [],
   "source": []
  }
 ],
 "metadata": {
  "kernelspec": {
   "display_name": "Python 3 (ipykernel)",
   "language": "python",
   "name": "python3"
  },
  "language_info": {
   "codemirror_mode": {
    "name": "ipython",
    "version": 3
   },
   "file_extension": ".py",
   "mimetype": "text/x-python",
   "name": "python",
   "nbconvert_exporter": "python",
   "pygments_lexer": "ipython3",
   "version": "3.11.7"
  }
 },
 "nbformat": 4,
 "nbformat_minor": 5
}

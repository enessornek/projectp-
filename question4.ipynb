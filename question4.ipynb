{
 "cells": [
  {
   "cell_type": "code",
   "execution_count": 1,
   "id": "b99337ef-812f-4aa5-97d8-805fdc0fb357",
   "metadata": {},
   "outputs": [
    {
     "name": "stdout",
     "output_type": "stream",
     "text": [
      "        country        date  daily_vaccinations  \\\n",
      "0     Argentina  12/29/2020              6483.0   \n",
      "1     Argentina  12/30/2020             15656.0   \n",
      "2     Argentina  12/31/2020             15656.0   \n",
      "3     Argentina    1/1/2021             11070.0   \n",
      "4     Argentina    1/2/2021              8776.0   \n",
      "...         ...         ...                 ...   \n",
      "1497      Wales   1/20/2021             11105.0   \n",
      "1498      Wales   1/21/2021             12318.0   \n",
      "1499      Wales   1/22/2021             15148.0   \n",
      "1500      Wales   1/23/2021             17371.0   \n",
      "1501      Wales   1/24/2021             17063.0   \n",
      "\n",
      "                                 vaccines  \n",
      "0                               Sputnik V  \n",
      "1                               Sputnik V  \n",
      "2                               Sputnik V  \n",
      "3                               Sputnik V  \n",
      "4                               Sputnik V  \n",
      "...                                   ...  \n",
      "1497  Oxford/AstraZeneca, Pfizer/BioNTech  \n",
      "1498  Oxford/AstraZeneca, Pfizer/BioNTech  \n",
      "1499  Oxford/AstraZeneca, Pfizer/BioNTech  \n",
      "1500  Oxford/AstraZeneca, Pfizer/BioNTech  \n",
      "1501  Oxford/AstraZeneca, Pfizer/BioNTech  \n",
      "\n",
      "[1502 rows x 4 columns]\n"
     ]
    }
   ],
   "source": [
    "import pandas as pd\n",
    "df = pd.read_csv(\"C:/Users/eneso/Downloads/country_vaccination_stats.csv\")\n",
    "\n",
    "df['daily_vaccinations'] = df.groupby('country')['daily_vaccinations'].transform(lambda x: x.fillna(x.min()))\n",
    "\n",
    "df['daily_vaccinations'] = df['daily_vaccinations'].fillna(0)\n",
    "\n",
    "print(df)\n"
   ]
  },
  {
   "cell_type": "code",
   "execution_count": null,
   "id": "55a80021-ad94-4726-bbcb-7a233be90fbd",
   "metadata": {},
   "outputs": [],
   "source": []
  }
 ],
 "metadata": {
  "kernelspec": {
   "display_name": "Python 3 (ipykernel)",
   "language": "python",
   "name": "python3"
  },
  "language_info": {
   "codemirror_mode": {
    "name": "ipython",
    "version": 3
   },
   "file_extension": ".py",
   "mimetype": "text/x-python",
   "name": "python",
   "nbconvert_exporter": "python",
   "pygments_lexer": "ipython3",
   "version": "3.11.7"
  }
 },
 "nbformat": 4,
 "nbformat_minor": 5
}

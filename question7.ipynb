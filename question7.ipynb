{
 "cells": [
  {
   "cell_type": "code",
   "execution_count": 15,
   "id": "b8a7eef2-2469-474e-8963-e9cd93f57a08",
   "metadata": {},
   "outputs": [
    {
     "name": "stdout",
     "output_type": "stream",
     "text": [
      "1/6/2021 tarihinde yapılan toplam aşılama sayısı: 1485255.0\n"
     ]
    }
   ],
   "source": [
    "import pandas as pd\n",
    "\n",
    "#soruların hepsi daha önceki tasklarda değiştirilmimiş datalardan tekrardan cevaplanmıştır\n",
    "df = pd.read_csv(\"C:/Users/eneso/Downloads/country_vaccination_stats.csv\")\n",
    "df['daily_vaccinations'] = df.groupby('country')['daily_vaccinations'].transform(lambda x: x.fillna(x.min()))\n",
    "df['daily_vaccinations'] = df['daily_vaccinations'].fillna(0)\n",
    "df['date'] = pd.to_datetime(df['date'], format='%m/%d/%Y')\n",
    "total_vaccinations_on_date = df[df['date'] == '2021-01-06']['daily_vaccinations'].sum()\n",
    "print(\"1/6/2021 tarihinde yapılan toplam aşılama sayısı:\", total_vaccinations_on_date)\n"
   ]
  },
  {
   "cell_type": "code",
   "execution_count": null,
   "id": "dd21c9dc-253c-4164-9da7-21ea520ff157",
   "metadata": {},
   "outputs": [],
   "source": []
  }
 ],
 "metadata": {
  "kernelspec": {
   "display_name": "Python 3 (ipykernel)",
   "language": "python",
   "name": "python3"
  },
  "language_info": {
   "codemirror_mode": {
    "name": "ipython",
    "version": 3
   },
   "file_extension": ".py",
   "mimetype": "text/x-python",
   "name": "python",
   "nbconvert_exporter": "python",
   "pygments_lexer": "ipython3",
   "version": "3.11.7"
  }
 },
 "nbformat": 4,
 "nbformat_minor": 5
}
